{
 "cells": [
  {
   "cell_type": "markdown",
   "metadata": {},
   "source": [
    "## RCA analysis of flight stats during Hurricane Sandy"
   ]
  },
  {
   "cell_type": "markdown",
   "metadata": {},
   "source": [
    "![Hurricane Sandy](hurricane-sandy-nasa-image.jpg)"
   ]
  },
  {
   "cell_type": "markdown",
   "metadata": {},
   "source": [
    "Hurricane Sandy hit the northeast coast of the United States on the 29th of October 2012 and dissipated on the 2nd of November 2012. The most affected cities were New York, Philadelphia, Boston, and Washington DC. Therefore, we're analyzing the following airports: \n",
    "\n",
    "**New York City:**\n",
    "* John F. Kennedy International Airport (JFK)\n",
    "* LaGuardia Airport (LGA)\n",
    "* Newark Liberty International Airport (EWR)\n",
    "\n",
    "**Philadelphia:**\n",
    "* Philadelphia International Airport (PHL)\n",
    "\n",
    "**Boston:**\n",
    "* Logan International Airport (BOS)\n",
    "\n",
    "**Washington D.C.:**\n",
    "* Ronald Reagan Washington National Airport (DCA)\n",
    "* Washington Dulles International Airport (IAD)\n",
    "* Baltimore/Washington International Thurgood Marshall Airport (BWI)"
   ]
  },
  {
   "cell_type": "markdown",
   "metadata": {},
   "source": [
    "### Hypotheses: \n",
    "1. Hurricane Sandy caused a drastic increase in flight cancellations from the 29th of October 2012 to 2nd of November 2012 from the following airports: JFK, LGA, EWR, PHL BOS, DCA, IAD, BWI.  \n",
    "2. On the 29th of October 2012, most flights landing in airports JFK, LGA, EWR, PHL BOS, DCA, IAD, BWI were diverted. \n",
    "3. By comparing weather and flight data from 2011 and 2012, it's apparent that Hurricane Sandy was the primary cause for a large amount of flight cancellations in 2012. "
   ]
  },
  {
   "cell_type": "markdown",
   "metadata": {},
   "source": [
    "**To be found:**\n",
    "* What percentage of flights were actually cancelled?\n",
    "* What's the cut off wind speed and rain (prcp) that leads to flight delays or cancellations?\n",
    "    * 30-35 km/h is the cut off -> plot the cancellations in relation to the cut off wind speed. \n",
    "* Does the combination of extreme temperatures and precipitation affect cancellations?  \n"
   ]
  },
  {
   "cell_type": "code",
   "execution_count": 4,
   "metadata": {},
   "outputs": [
    {
     "data": {
      "text/plain": [
       "True"
      ]
     },
     "execution_count": 4,
     "metadata": {},
     "output_type": "execute_result"
    }
   ],
   "source": [
    "import pandas as pd\n",
    "import requests\n",
    "from dotenv import load_dotenv\n",
    "import os\n",
    "import matplotlib.pyplot as plt\n",
    "import seaborn as sns\n",
    "import sqlalchemy\n",
    "import time\n",
    "import json\n",
    "load_dotenv()"
   ]
  },
  {
   "cell_type": "markdown",
   "metadata": {},
   "source": [
    "### Weather data - 2012"
   ]
  },
  {
   "cell_type": "code",
   "execution_count": null,
   "metadata": {},
   "outputs": [],
   "source": [
    "#Weather data for 2012\n",
    "#API URL and headers\n",
    "#Weather data for 2011\n",
    "url = 'https://meteostat.p.rapidapi.com/point/daily'\n",
    "headers = {\n",
    "   \"x-rapidapi-host\": 'meteostat.p.rapidapi.com',\n",
    "   \"x-rapidapi-key\": os.getenv('x-rapidapi-key')  # Ensure this environment variable is set\n",
    "}\n",
    "\n",
    "#airports and their coordinates\n",
    "airports = {\n",
    "    \"JFK\": {\"lat\": 40.6413, \"lon\": -73.7781},  # John F. Kennedy International Airport\n",
    "    \"LGA\": {\"lat\": 40.7769, \"lon\": -73.8740},  # LaGuardia Airport\n",
    "    \"EWR\": {\"lat\": 40.6895, \"lon\": -74.1745},  # Newark Liberty International Airport\n",
    "    \"PHL\": {\"lat\": 39.8729, \"lon\": -75.2437},  # Philadelphia International Airport\n",
    "    \"BOS\": {\"lat\": 42.3656, \"lon\": -71.0096},  # Boston Logan International Airport\n",
    "    \"DCA\": {\"lat\": 38.8512, \"lon\": -77.0402},  # Ronald Reagan Washington National Airport\n",
    "    \"IAD\": {\"lat\": 38.9531, \"lon\": -77.4565},  # Washington Dulles International Airport\n",
    "    \"BWI\": {\"lat\": 39.1754, \"lon\": -76.6684}   # Baltimore/Washington International Thurgood Marshall Airport\n",
    "}\n",
    "\n",
    "#date range\n",
    "start_date = \"2012-10-01\"\n",
    "end_date = \"2012-11-30\"\n",
    "weather_data_2012 = []\n",
    "\n",
    "for airport_code, coordinates in airports.items():\n",
    "    parameters = {\n",
    "        \"lat\": coordinates[\"lat\"],\n",
    "        \"lon\": coordinates[\"lon\"],\n",
    "        \"start\": start_date,\n",
    "        \"end\": end_date,\n",
    "        \"units\": \"metric\"\n",
    "    }\n",
    "    time.sleep(1) \n",
    "    response = requests.get(url, headers=headers, params=parameters)\n",
    "\n",
    "    if response.status_code == 200:\n",
    "        data = response.json()\n",
    "        for daily_data in data['data']:\n",
    "            daily_data['airport_code'] = airport_code\n",
    "            weather_data_2012.append(daily_data)\n",
    "    else:\n",
    "        print(f\"Error fetching data for {airport_code}: {response.status_code} - {response.text}\") \n",
    "\n",
    "#list of dictionaries to a DataFrame\n",
    "weather_df_2012 = pd.DataFrame(weather_data_2012)\n",
    "\n",
    "\n",
    "print(weather_df_2012.head())"
   ]
  },
  {
   "cell_type": "code",
   "execution_count": null,
   "metadata": {},
   "outputs": [],
   "source": [
    "#Cleaning steps for 2012\n",
    "#Dropping empty columns\n",
    "weather_df_2012 = weather_df_2012.drop(columns=['wpgt', 'tsun'])\n",
    "\n",
    "#Filling missing values in wspd with 0\n",
    "weather_df_2012['wspd'].fillna(0, inplace=True)\n",
    "\n",
    "#Convert date column to datetime\n",
    "weather_df_2012['date'] = pd.to_datetime(weather_df_2012['date']) "
   ]
  },
  {
   "cell_type": "code",
   "execution_count": null,
   "metadata": {},
   "outputs": [],
   "source": [
    "# Write records stored in a dataframe to SQL database\n",
    "table_name = 'weather_data_2012'\n",
    "schema = 'cgn_analytics_24_3'\n",
    "engine = get_engine()\n",
    "\n",
    "if engine!=None:\n",
    "    try:\n",
    "        weather_df_2012.to_sql(table_name, # Name of SQL table\n",
    "                        con=engine, # Engine or connection\n",
    "                        if_exists='replace', # Drop the table before inserting new values \n",
    "                        schema=schema, # your class schema\n",
    "                        index=False, # Write DataFrame index as a column\n",
    "                        chunksize=5000, # Specify the number of rows in each batch to be written at a time\n",
    "                        method='multi') # Pass multiple values in a single INSERT clause\n",
    "        print(f\"The {table_name} table was imported successfully.\")\n",
    "    # Error handling\n",
    "    except (Exception, psycopg2.DatabaseError) as error:\n",
    "        print(error)\n",
    "        engine = None"
   ]
  },
  {
   "cell_type": "markdown",
   "metadata": {},
   "source": [
    "### Weather data - 2011"
   ]
  },
  {
   "cell_type": "code",
   "execution_count": null,
   "metadata": {},
   "outputs": [],
   "source": [
    "#Weather data for 2011\n",
    "#API URL and headers\n",
    "url = 'https://meteostat.p.rapidapi.com/point/daily'\n",
    "headers = {\n",
    "   \"x-rapidapi-host\": 'meteostat.p.rapidapi.com',\n",
    "   \"x-rapidapi-key\": os.getenv('x-rapidapi-key')  # Ensure this environment variable is set\n",
    "}\n",
    "\n",
    "#airports and their coordinates\n",
    "airports = {\n",
    "    \"JFK\": {\"lat\": 40.6413, \"lon\": -73.7781},  # John F. Kennedy International Airport\n",
    "    \"LGA\": {\"lat\": 40.7769, \"lon\": -73.8740},  # LaGuardia Airport\n",
    "    \"EWR\": {\"lat\": 40.6895, \"lon\": -74.1745},  # Newark Liberty International Airport\n",
    "    \"PHL\": {\"lat\": 39.8729, \"lon\": -75.2437},  # Philadelphia International Airport\n",
    "    \"BOS\": {\"lat\": 42.3656, \"lon\": -71.0096},  # Boston Logan International Airport\n",
    "    \"DCA\": {\"lat\": 38.8512, \"lon\": -77.0402},  # Ronald Reagan Washington National Airport\n",
    "    \"IAD\": {\"lat\": 38.9531, \"lon\": -77.4565},  # Washington Dulles International Airport\n",
    "    \"BWI\": {\"lat\": 39.1754, \"lon\": -76.6684}   # Baltimore/Washington International Thurgood Marshall Airport\n",
    "}\n",
    "\n",
    "#date range\n",
    "start_date = \"2011-10-01\"\n",
    "end_date = \"2011-11-30\"\n",
    "weather_data_2011 = []\n",
    "\n",
    "for airport_code, coordinates in airports.items():\n",
    "    parameters = {\n",
    "        \"lat\": coordinates[\"lat\"],\n",
    "        \"lon\": coordinates[\"lon\"],\n",
    "        \"start\": start_date,\n",
    "        \"end\": end_date,\n",
    "        \"units\": \"metric\"\n",
    "    }\n",
    "    time.sleep(1)\n",
    "    response = requests.get(url, headers=headers, params=parameters)\n",
    "\n",
    "    if response.status_code == 200:\n",
    "        data = response.json()\n",
    "        for daily_data in data['data']:\n",
    "            daily_data['airport_code'] = airport_code\n",
    "            weather_data_2011.append(daily_data)\n",
    "    else:\n",
    "        print(f\"Error fetching data for {airport_code}: {response.status_code} - {response.text}\") \n",
    "\n",
    "#list of dictionaries to a DataFrame\n",
    "weather_df_2011 = pd.DataFrame(weather_data_2011)"
   ]
  },
  {
   "cell_type": "code",
   "execution_count": null,
   "metadata": {},
   "outputs": [],
   "source": [
    "#Cleaning steps for 2011\n",
    "#Dropping empty columns\n",
    "weather_df_2011 = weather_df_2011.drop(columns=['wpgt', 'tsun'])\n",
    "\n",
    "#Filling missing values in wspd with 0\n",
    "weather_df_2011['wspd'].fillna(0, inplace=True)\n",
    "\n",
    "#Convert date column to datetime\n",
    "weather_df_2011['date'] = pd.to_datetime(weather_df_2011['date'])  "
   ]
  },
  {
   "cell_type": "code",
   "execution_count": null,
   "metadata": {},
   "outputs": [],
   "source": [
    "# Write records stored in a dataframe to SQL database\n",
    "table_name = 'weather_data_2011'\n",
    "schema = 'cgn_analytics_24_3'\n",
    "engine = get_engine()\n",
    "\n",
    "if engine!=None:\n",
    "    try:\n",
    "        weather_df_2011.to_sql(table_name, # Name of SQL table\n",
    "                        con=engine, # Engine or connection\n",
    "                        if_exists='replace', # Drop the table before inserting new values \n",
    "                        schema=schema, # your class schema\n",
    "                        index=False, # Write DataFrame index as a column\n",
    "                        chunksize=5000, # Specify the number of rows in each batch to be written at a time\n",
    "                        method='multi') # Pass multiple values in a single INSERT clause\n",
    "        print(f\"The {table_name} table was imported successfully.\")\n",
    "    # Error handling\n",
    "    except (Exception, psycopg2.DatabaseError) as error:\n",
    "        print(error)\n",
    "        engine = None"
   ]
  }
 ],
 "metadata": {
  "kernelspec": {
   "display_name": "nf_sql",
   "language": "python",
   "name": "python3"
  },
  "language_info": {
   "codemirror_mode": {
    "name": "ipython",
    "version": 3
   },
   "file_extension": ".py",
   "mimetype": "text/x-python",
   "name": "python",
   "nbconvert_exporter": "python",
   "pygments_lexer": "ipython3",
   "version": "3.10.14"
  }
 },
 "nbformat": 4,
 "nbformat_minor": 2
}
